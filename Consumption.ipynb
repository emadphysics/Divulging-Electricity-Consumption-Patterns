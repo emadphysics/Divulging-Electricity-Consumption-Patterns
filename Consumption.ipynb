{
  "nbformat": 4,
  "nbformat_minor": 0,
  "metadata": {
    "colab": {
      "name": "Consumption",
      "provenance": [],
      "authorship_tag": "ABX9TyPhXg7ARvoHIXm2sZwsCFSf",
      "include_colab_link": true
    },
    "kernelspec": {
      "display_name": "Python 3",
      "name": "python3"
    }
  },
  "cells": [
    {
      "cell_type": "markdown",
      "metadata": {
        "id": "view-in-github",
        "colab_type": "text"
      },
      "source": [
        "<a href=\"https://colab.research.google.com/github/emadphysics/Divulging-electricity-consumption-patterns/blob/main/Consumption.ipynb\" target=\"_parent\"><img src=\"https://colab.research.google.com/assets/colab-badge.svg\" alt=\"Open In Colab\"/></a>"
      ]
    },
    {
      "cell_type": "code",
      "metadata": {
        "id": "LA7SOJLCs7ct",
        "colab": {
          "base_uri": "https://localhost:8080/"
        },
        "outputId": "965b83a6-4e6e-4cf8-b8e5-a487716cc5ae"
      },
      "source": [
        "from google.colab import drive\r\n",
        "\r\n",
        "import zipfile\r\n",
        "import numpy as np\r\n",
        "import pandas as pd\r\n",
        "import scipy.stats as stats\r\n",
        "import matplotlib.pyplot as plt\r\n",
        "import sklearn\r\n",
        "import math\r\n",
        "import seaborn as sns\r\n",
        "from matplotlib import rcParams\r\n",
        "from datetime import date\r\n",
        "\r\n",
        "from pandas.tseries.holiday import AbstractHolidayCalendar\r\n",
        "import pandas as pd\r\n",
        "\r\n",
        "plt.style.use('bmh')\r\n",
        "import warnings\r\n",
        "warnings.filterwarnings(\"ignore\")\r\n",
        "%matplotlib inline \r\n"
      ],
      "execution_count": 1,
      "outputs": [
        {
          "output_type": "stream",
          "text": [
            "/usr/local/lib/python3.6/dist-packages/statsmodels/tools/_testing.py:19: FutureWarning: pandas.util.testing is deprecated. Use the functions in the public API at pandas.testing instead.\n",
            "  import pandas.util.testing as tm\n"
          ],
          "name": "stderr"
        }
      ]
    },
    {
      "cell_type": "code",
      "metadata": {
        "id": "PBzO5jIBswF8"
      },
      "source": [
        ""
      ],
      "execution_count": null,
      "outputs": []
    },
    {
      "cell_type": "markdown",
      "metadata": {
        "id": "Qicou7NNswwj"
      },
      "source": [
        "# **Electricity loading**"
      ]
    },
    {
      "cell_type": "code",
      "metadata": {
        "colab": {
          "base_uri": "https://localhost:8080/"
        },
        "id": "W_Y4n6v9s--3",
        "outputId": "b88f545f-fad5-434b-885a-80095df21043"
      },
      "source": [
        "drive.mount(\"/content/gdrive\")"
      ],
      "execution_count": null,
      "outputs": [
        {
          "output_type": "stream",
          "text": [
            "Drive already mounted at /content/gdrive; to attempt to forcibly remount, call drive.mount(\"/content/gdrive\", force_remount=True).\n"
          ],
          "name": "stdout"
        }
      ]
    },
    {
      "cell_type": "code",
      "metadata": {
        "id": "_cXTi123t2ha"
      },
      "source": [
        "from zipfile import ZipFile\r\n",
        "\r\n",
        "zip_file = ZipFile('/content/gdrive/My Drive/archive (1).zip')\r\n",
        "dfs = {text_file.filename: pd.read_csv(zip_file.open(text_file.filename),usecols=['start','load'],parse_dates=['start'],index_col=['start'])\r\n",
        "       for text_file in zip_file.infolist()\r\n",
        "       if text_file.filename.endswith('.csv')}"
      ],
      "execution_count": null,
      "outputs": []
    },
    {
      "cell_type": "code",
      "metadata": {
        "id": "ze4uF-DCt2uH"
      },
      "source": [
        "data=pd.DataFrame(dfs['nl.csv'])\r\n",
        "data=data.resample('H').sum()"
      ],
      "execution_count": null,
      "outputs": []
    },
    {
      "cell_type": "code",
      "metadata": {
        "colab": {
          "base_uri": "https://localhost:8080/",
          "height": 437
        },
        "id": "Z0WSaKp4csPC",
        "outputId": "b0ef8ef5-4ceb-4100-bcf6-707709016f4a"
      },
      "source": [
        "data"
      ],
      "execution_count": null,
      "outputs": [
        {
          "output_type": "execute_result",
          "data": {
            "text/html": [
              "<div>\n",
              "<style scoped>\n",
              "    .dataframe tbody tr th:only-of-type {\n",
              "        vertical-align: middle;\n",
              "    }\n",
              "\n",
              "    .dataframe tbody tr th {\n",
              "        vertical-align: top;\n",
              "    }\n",
              "\n",
              "    .dataframe thead th {\n",
              "        text-align: right;\n",
              "    }\n",
              "</style>\n",
              "<table border=\"1\" class=\"dataframe\">\n",
              "  <thead>\n",
              "    <tr style=\"text-align: right;\">\n",
              "      <th></th>\n",
              "      <th>load</th>\n",
              "    </tr>\n",
              "    <tr>\n",
              "      <th>start</th>\n",
              "      <th></th>\n",
              "    </tr>\n",
              "  </thead>\n",
              "  <tbody>\n",
              "    <tr>\n",
              "      <th>2015-01-01 00:00:00+00:00</th>\n",
              "      <td>37824.0</td>\n",
              "    </tr>\n",
              "    <tr>\n",
              "      <th>2015-01-01 01:00:00+00:00</th>\n",
              "      <td>35827.0</td>\n",
              "    </tr>\n",
              "    <tr>\n",
              "      <th>2015-01-01 02:00:00+00:00</th>\n",
              "      <td>33846.0</td>\n",
              "    </tr>\n",
              "    <tr>\n",
              "      <th>2015-01-01 03:00:00+00:00</th>\n",
              "      <td>32624.0</td>\n",
              "    </tr>\n",
              "    <tr>\n",
              "      <th>2015-01-01 04:00:00+00:00</th>\n",
              "      <td>32504.0</td>\n",
              "    </tr>\n",
              "    <tr>\n",
              "      <th>...</th>\n",
              "      <td>...</td>\n",
              "    </tr>\n",
              "    <tr>\n",
              "      <th>2020-07-31 19:00:00+00:00</th>\n",
              "      <td>51383.0</td>\n",
              "    </tr>\n",
              "    <tr>\n",
              "      <th>2020-07-31 20:00:00+00:00</th>\n",
              "      <td>50887.0</td>\n",
              "    </tr>\n",
              "    <tr>\n",
              "      <th>2020-07-31 21:00:00+00:00</th>\n",
              "      <td>48864.0</td>\n",
              "    </tr>\n",
              "    <tr>\n",
              "      <th>2020-07-31 22:00:00+00:00</th>\n",
              "      <td>46698.0</td>\n",
              "    </tr>\n",
              "    <tr>\n",
              "      <th>2020-07-31 23:00:00+00:00</th>\n",
              "      <td>44571.0</td>\n",
              "    </tr>\n",
              "  </tbody>\n",
              "</table>\n",
              "<p>48936 rows × 1 columns</p>\n",
              "</div>"
            ],
            "text/plain": [
              "                              load\n",
              "start                             \n",
              "2015-01-01 00:00:00+00:00  37824.0\n",
              "2015-01-01 01:00:00+00:00  35827.0\n",
              "2015-01-01 02:00:00+00:00  33846.0\n",
              "2015-01-01 03:00:00+00:00  32624.0\n",
              "2015-01-01 04:00:00+00:00  32504.0\n",
              "...                            ...\n",
              "2020-07-31 19:00:00+00:00  51383.0\n",
              "2020-07-31 20:00:00+00:00  50887.0\n",
              "2020-07-31 21:00:00+00:00  48864.0\n",
              "2020-07-31 22:00:00+00:00  46698.0\n",
              "2020-07-31 23:00:00+00:00  44571.0\n",
              "\n",
              "[48936 rows x 1 columns]"
            ]
          },
          "metadata": {
            "tags": []
          },
          "execution_count": 16
        }
      ]
    },
    {
      "cell_type": "code",
      "metadata": {
        "id": "QtpKGpK4MMYH"
      },
      "source": [
        "data=data[(data.index>='2015-01-01')&(data.index<'2020-01-01')]"
      ],
      "execution_count": null,
      "outputs": []
    },
    {
      "cell_type": "code",
      "metadata": {
        "id": "RVivaChp76p5"
      },
      "source": [
        "weekdays = {0:'Monday', 1:'Tuesday', 2:'Wednesday', 3: 'Thursday', 4: 'Friday', 5:'Saturday', 6:'Sunday'}\r\n",
        "data['Dates']=data.index.date\r\n",
        "data['hour']=data.index.hour\r\n",
        "data['year']=data.index.year\r\n",
        "data['month']=data.index.month\r\n",
        "data['day']=data.index.day\r\n",
        "data['hour']=data.index.hour\r\n",
        "data['weekday'] = data.index.weekday.map(weekdays)\r\n",
        "data.index.names=['Date']\r\n",
        "#data.index = data.index.map(lambda ts: ts.strftime(\"%Y-%m-%d\"))"
      ],
      "execution_count": null,
      "outputs": []
    },
    {
      "cell_type": "code",
      "metadata": {
        "id": "vkkpEJTUqD71"
      },
      "source": [
        "hour_dict = {'morning': list(np.arange(7,13)),'afternoon': list(np.arange(13,16)), 'evening': list(np.arange(16,22)),\r\n",
        "            'night': [22, 23, 0, 1, 2, 3, 4, 5, 6]}"
      ],
      "execution_count": null,
      "outputs": []
    },
    {
      "cell_type": "code",
      "metadata": {
        "id": "yQaxiOlmqHXp"
      },
      "source": [
        "def daytime(x):\r\n",
        "    if x in hour_dict['morning']:\r\n",
        "        return 'morning'\r\n",
        "    elif x in hour_dict['afternoon']:\r\n",
        "        return 'afternoon'\r\n",
        "    elif x in hour_dict['evening']:\r\n",
        "        return 'evening'\r\n",
        "    else:\r\n",
        "        return 'night'"
      ],
      "execution_count": null,
      "outputs": []
    },
    {
      "cell_type": "code",
      "metadata": {
        "id": "Tx1BfBLAqPaN"
      },
      "source": [
        "data['daytime'] = data['hour'].apply(daytime)"
      ],
      "execution_count": null,
      "outputs": []
    },
    {
      "cell_type": "code",
      "metadata": {
        "id": "VSplhb5SzgIk"
      },
      "source": [
        "#!pip install workalendar\r\n",
        "from pandas.tseries.holiday import *"
      ],
      "execution_count": null,
      "outputs": []
    },
    {
      "cell_type": "code",
      "metadata": {
        "id": "XcpWsa3Z29yD"
      },
      "source": [
        "#subclassing to build the Netherlands public halidays\r\n",
        "class Nl(AbstractHolidayCalendar):\r\n",
        "    rules = [\r\n",
        "        Holiday('New Years Day', month=1, day=1),\r\n",
        "        Holiday('Good Friday', month=4, day=10),\r\n",
        "        Holiday('Easter Sunday', month=4, day=12),\r\n",
        "        Holiday('Easter Monday', month=4, day=13),\r\n",
        "        Holiday('Liberation Day', month=5, day=5),\r\n",
        "        Holiday('Ascension Day', month=5, day=21),\r\n",
        "        Holiday('Whitsun', month=5, day=31),\r\n",
        "        Holiday('Whit Monday', month=6, day=1),\r\n",
        "        Holiday('Christmas Day', month=12, day=25),\r\n",
        "        Holiday('Christmas Day', month=12, day=26)\r\n",
        "    ]"
      ],
      "execution_count": null,
      "outputs": []
    },
    {
      "cell_type": "code",
      "metadata": {
        "colab": {
          "base_uri": "https://localhost:8080/",
          "height": 228
        },
        "id": "Dk_WLwNS2QeO",
        "outputId": "46524a3a-8762-49ca-896d-f8f0fc58dc3c"
      },
      "source": [
        "cal = Nl()\r\n",
        "holidays = cal.holidays(data.index.min(), data.index.max())\r\n",
        "data['holiday'] = data.index.isin(holidays)\r\n",
        "data['non_working'] = data.apply(lambda x: 'Yes' if \\\r\n",
        "                                         ((x['holiday'] == 1) or (x['weekday'] in ['Saturday', 'Sunday']))\r\n",
        "                                         else 'No', axis = 1)\r\n",
        "mapped = {True:1, False:0}\r\n",
        "data['holiday'] = data['holiday'].map(mapped)\r\n",
        "data.head()"
      ],
      "execution_count": null,
      "outputs": [
        {
          "output_type": "execute_result",
          "data": {
            "text/html": [
              "<div>\n",
              "<style scoped>\n",
              "    .dataframe tbody tr th:only-of-type {\n",
              "        vertical-align: middle;\n",
              "    }\n",
              "\n",
              "    .dataframe tbody tr th {\n",
              "        vertical-align: top;\n",
              "    }\n",
              "\n",
              "    .dataframe thead th {\n",
              "        text-align: right;\n",
              "    }\n",
              "</style>\n",
              "<table border=\"1\" class=\"dataframe\">\n",
              "  <thead>\n",
              "    <tr style=\"text-align: right;\">\n",
              "      <th></th>\n",
              "      <th>load</th>\n",
              "      <th>Dates</th>\n",
              "      <th>hour</th>\n",
              "      <th>year</th>\n",
              "      <th>month</th>\n",
              "      <th>day</th>\n",
              "      <th>weekday</th>\n",
              "      <th>daytime</th>\n",
              "      <th>holiday</th>\n",
              "      <th>non_working</th>\n",
              "    </tr>\n",
              "    <tr>\n",
              "      <th>Date</th>\n",
              "      <th></th>\n",
              "      <th></th>\n",
              "      <th></th>\n",
              "      <th></th>\n",
              "      <th></th>\n",
              "      <th></th>\n",
              "      <th></th>\n",
              "      <th></th>\n",
              "      <th></th>\n",
              "      <th></th>\n",
              "    </tr>\n",
              "  </thead>\n",
              "  <tbody>\n",
              "    <tr>\n",
              "      <th>2015-01-01 00:00:00+00:00</th>\n",
              "      <td>37824.0</td>\n",
              "      <td>2015-01-01</td>\n",
              "      <td>0</td>\n",
              "      <td>2015</td>\n",
              "      <td>1</td>\n",
              "      <td>1</td>\n",
              "      <td>Thursday</td>\n",
              "      <td>night</td>\n",
              "      <td>1</td>\n",
              "      <td>Yes</td>\n",
              "    </tr>\n",
              "    <tr>\n",
              "      <th>2015-01-01 01:00:00+00:00</th>\n",
              "      <td>35827.0</td>\n",
              "      <td>2015-01-01</td>\n",
              "      <td>1</td>\n",
              "      <td>2015</td>\n",
              "      <td>1</td>\n",
              "      <td>1</td>\n",
              "      <td>Thursday</td>\n",
              "      <td>night</td>\n",
              "      <td>0</td>\n",
              "      <td>No</td>\n",
              "    </tr>\n",
              "    <tr>\n",
              "      <th>2015-01-01 02:00:00+00:00</th>\n",
              "      <td>33846.0</td>\n",
              "      <td>2015-01-01</td>\n",
              "      <td>2</td>\n",
              "      <td>2015</td>\n",
              "      <td>1</td>\n",
              "      <td>1</td>\n",
              "      <td>Thursday</td>\n",
              "      <td>night</td>\n",
              "      <td>0</td>\n",
              "      <td>No</td>\n",
              "    </tr>\n",
              "    <tr>\n",
              "      <th>2015-01-01 03:00:00+00:00</th>\n",
              "      <td>32624.0</td>\n",
              "      <td>2015-01-01</td>\n",
              "      <td>3</td>\n",
              "      <td>2015</td>\n",
              "      <td>1</td>\n",
              "      <td>1</td>\n",
              "      <td>Thursday</td>\n",
              "      <td>night</td>\n",
              "      <td>0</td>\n",
              "      <td>No</td>\n",
              "    </tr>\n",
              "    <tr>\n",
              "      <th>2015-01-01 04:00:00+00:00</th>\n",
              "      <td>32504.0</td>\n",
              "      <td>2015-01-01</td>\n",
              "      <td>4</td>\n",
              "      <td>2015</td>\n",
              "      <td>1</td>\n",
              "      <td>1</td>\n",
              "      <td>Thursday</td>\n",
              "      <td>night</td>\n",
              "      <td>0</td>\n",
              "      <td>No</td>\n",
              "    </tr>\n",
              "  </tbody>\n",
              "</table>\n",
              "</div>"
            ],
            "text/plain": [
              "                              load       Dates  ...  holiday  non_working\n",
              "Date                                            ...                      \n",
              "2015-01-01 00:00:00+00:00  37824.0  2015-01-01  ...        1          Yes\n",
              "2015-01-01 01:00:00+00:00  35827.0  2015-01-01  ...        0           No\n",
              "2015-01-01 02:00:00+00:00  33846.0  2015-01-01  ...        0           No\n",
              "2015-01-01 03:00:00+00:00  32624.0  2015-01-01  ...        0           No\n",
              "2015-01-01 04:00:00+00:00  32504.0  2015-01-01  ...        0           No\n",
              "\n",
              "[5 rows x 10 columns]"
            ]
          },
          "metadata": {
            "tags": []
          },
          "execution_count": 24
        }
      ]
    },
    {
      "cell_type": "code",
      "metadata": {
        "colab": {
          "base_uri": "https://localhost:8080/"
        },
        "id": "u65Almw_0wEq",
        "outputId": "d87d6fc8-f9bf-4c87-b742-1da3b540a230"
      },
      "source": [
        "data['load'].kurt(),data['load'].skew()"
      ],
      "execution_count": null,
      "outputs": [
        {
          "output_type": "execute_result",
          "data": {
            "text/plain": [
              "(-0.6860683508134033, 0.07107788096585171)"
            ]
          },
          "metadata": {
            "tags": []
          },
          "execution_count": 72
        }
      ]
    },
    {
      "cell_type": "code",
      "metadata": {
        "colab": {
          "base_uri": "https://localhost:8080/",
          "height": 387
        },
        "id": "Ng9pNloO9xzg",
        "outputId": "caef58fa-e056-4b96-f1ba-e7274f562786"
      },
      "source": [
        "sns.displot(data,x='load',kind=\"kde\",bw_adjust=4)"
      ],
      "execution_count": null,
      "outputs": [
        {
          "output_type": "execute_result",
          "data": {
            "text/plain": [
              "<seaborn.axisgrid.FacetGrid at 0x7f40550d06a0>"
            ]
          },
          "metadata": {
            "tags": []
          },
          "execution_count": 73
        },
        {
          "output_type": "display_data",
          "data": {
            "image/png": "[encoded data removed]",
            "text/plain": [
              "<Figure size 360x360 with 1 Axes>"
            ]
          },
          "metadata": {
            "tags": [],
            "needs_background": "light"
          }
        }
      ]
    },
    {
      "cell_type": "markdown",
      "metadata": {
        "id": "hQbgu6UvApkt"
      },
      "source": [
        ""
      ]
    },
    {
      "cell_type": "code",
      "metadata": {
        "colab": {
          "base_uri": "https://localhost:8080/"
        },
        "id": "vHOM1HG2_xb_",
        "outputId": "7a564117-3464-410f-b805-eb1fc16a6db5"
      },
      "source": [
        "data['load'].describe()"
      ],
      "execution_count": null,
      "outputs": [
        {
          "output_type": "execute_result",
          "data": {
            "text/plain": [
              "count    43824.000000\n",
              "mean     50585.174174\n",
              "std       9334.947133\n",
              "min      26001.000000\n",
              "25%      43177.750000\n",
              "50%      50431.500000\n",
              "75%      57667.250000\n",
              "max      77088.000000\n",
              "Name: load, dtype: float64"
            ]
          },
          "metadata": {
            "tags": []
          },
          "execution_count": 520
        }
      ]
    },
    {
      "cell_type": "code",
      "metadata": {
        "colab": {
          "base_uri": "https://localhost:8080/",
          "height": 171
        },
        "id": "6Dmd3HrbAB67",
        "outputId": "41866f5a-12bb-4622-e07f-1b1a00470e10"
      },
      "source": [
        "red_square = dict(markerfacecolor='r', markeredgecolor='r', marker='.')\r\n",
        "data['load'].plot(kind='box', xlim=(90000, 16000), vert=False, flierprops=red_square, figsize=(16,2))"
      ],
      "execution_count": null,
      "outputs": [
        {
          "output_type": "execute_result",
          "data": {
            "text/plain": [
              "<matplotlib.axes._subplots.AxesSubplot at 0x7fce46494128>"
            ]
          },
          "metadata": {
            "tags": []
          },
          "execution_count": 524
        },
        {
          "output_type": "display_data",
          "data": {
            "image/png": "[encoded data removed]",
            "text/plain": [
              "<Figure size 1152x144 with 1 Axes>"
            ]
          },
          "metadata": {
            "tags": [],
            "needs_background": "light"
          }
        }
      ]
    },
    {
      "cell_type": "markdown",
      "metadata": {
        "id": "iosdUxSOBWC-"
      },
      "source": [
        "Fortunately, it does not suffers from outliers"
      ]
    },
    {
      "cell_type": "code",
      "metadata": {
        "id": "VG4LOvgkBJUR"
      },
      "source": [
        "def season_calc(month):\r\n",
        "    \"\"\"adding season based on the data on SDGE's site -> https://www.sdge.com/whenmatters#how-it-works; \r\n",
        "       months from June to October are denoted as 'summer' and months from November to May as 'winter'. \"\"\"\r\n",
        "    if month in [1,2,3]:\r\n",
        "      return \"winter\"\r\n",
        "    elif month in [4,5,6]:\r\n",
        "      return 'spring'\r\n",
        "    elif month in [7,8,9]:\r\n",
        "      return 'summer'\r\n",
        "    else:\r\n",
        "      return 'autumn'\r\n"
      ],
      "execution_count": null,
      "outputs": []
    },
    {
      "cell_type": "code",
      "metadata": {
        "id": "YLx8nYbuBJXg"
      },
      "source": [
        "data['Dates'] = pd.to_datetime(data['Dates'])\r\n",
        "data['season'] = data['Dates'].dt.month.apply(season_calc)"
      ],
      "execution_count": null,
      "outputs": []
    },
    {
      "cell_type": "code",
      "metadata": {
        "colab": {
          "base_uri": "https://localhost:8080/",
          "height": 437
        },
        "id": "BU4ff_g_BJaI",
        "outputId": "03a2e7f2-a932-4f46-f0db-ecc4e22c61de"
      },
      "source": [
        "data"
      ],
      "execution_count": null,
      "outputs": [
        {
          "output_type": "execute_result",
          "data": {
            "text/html": [
              "<div>\n",
              "<style scoped>\n",
              "    .dataframe tbody tr th:only-of-type {\n",
              "        vertical-align: middle;\n",
              "    }\n",
              "\n",
              "    .dataframe tbody tr th {\n",
              "        vertical-align: top;\n",
              "    }\n",
              "\n",
              "    .dataframe thead th {\n",
              "        text-align: right;\n",
              "    }\n",
              "</style>\n",
              "<table border=\"1\" class=\"dataframe\">\n",
              "  <thead>\n",
              "    <tr style=\"text-align: right;\">\n",
              "      <th></th>\n",
              "      <th>load</th>\n",
              "      <th>Dates</th>\n",
              "      <th>hour</th>\n",
              "      <th>year</th>\n",
              "      <th>month</th>\n",
              "      <th>day</th>\n",
              "      <th>weekday</th>\n",
              "      <th>daytime</th>\n",
              "      <th>holiday</th>\n",
              "      <th>non_working</th>\n",
              "      <th>season</th>\n",
              "    </tr>\n",
              "    <tr>\n",
              "      <th>Date</th>\n",
              "      <th></th>\n",
              "      <th></th>\n",
              "      <th></th>\n",
              "      <th></th>\n",
              "      <th></th>\n",
              "      <th></th>\n",
              "      <th></th>\n",
              "      <th></th>\n",
              "      <th></th>\n",
              "      <th></th>\n",
              "      <th></th>\n",
              "    </tr>\n",
              "  </thead>\n",
              "  <tbody>\n",
              "    <tr>\n",
              "      <th>2015-01-01 00:00:00+00:00</th>\n",
              "      <td>37824.0</td>\n",
              "      <td>2015-01-01</td>\n",
              "      <td>0</td>\n",
              "      <td>2015</td>\n",
              "      <td>1</td>\n",
              "      <td>1</td>\n",
              "      <td>Thursday</td>\n",
              "      <td>night</td>\n",
              "      <td>1</td>\n",
              "      <td>Yes</td>\n",
              "      <td>winter</td>\n",
              "    </tr>\n",
              "    <tr>\n",
              "      <th>2015-01-01 01:00:00+00:00</th>\n",
              "      <td>35827.0</td>\n",
              "      <td>2015-01-01</td>\n",
              "      <td>1</td>\n",
              "      <td>2015</td>\n",
              "      <td>1</td>\n",
              "      <td>1</td>\n",
              "      <td>Thursday</td>\n",
              "      <td>night</td>\n",
              "      <td>0</td>\n",
              "      <td>No</td>\n",
              "      <td>winter</td>\n",
              "    </tr>\n",
              "    <tr>\n",
              "      <th>2015-01-01 02:00:00+00:00</th>\n",
              "      <td>33846.0</td>\n",
              "      <td>2015-01-01</td>\n",
              "      <td>2</td>\n",
              "      <td>2015</td>\n",
              "      <td>1</td>\n",
              "      <td>1</td>\n",
              "      <td>Thursday</td>\n",
              "      <td>night</td>\n",
              "      <td>0</td>\n",
              "      <td>No</td>\n",
              "      <td>winter</td>\n",
              "    </tr>\n",
              "    <tr>\n",
              "      <th>2015-01-01 03:00:00+00:00</th>\n",
              "      <td>32624.0</td>\n",
              "      <td>2015-01-01</td>\n",
              "      <td>3</td>\n",
              "      <td>2015</td>\n",
              "      <td>1</td>\n",
              "      <td>1</td>\n",
              "      <td>Thursday</td>\n",
              "      <td>night</td>\n",
              "      <td>0</td>\n",
              "      <td>No</td>\n",
              "      <td>winter</td>\n",
              "    </tr>\n",
              "    <tr>\n",
              "      <th>2015-01-01 04:00:00+00:00</th>\n",
              "      <td>32504.0</td>\n",
              "      <td>2015-01-01</td>\n",
              "      <td>4</td>\n",
              "      <td>2015</td>\n",
              "      <td>1</td>\n",
              "      <td>1</td>\n",
              "      <td>Thursday</td>\n",
              "      <td>night</td>\n",
              "      <td>0</td>\n",
              "      <td>No</td>\n",
              "      <td>winter</td>\n",
              "    </tr>\n",
              "    <tr>\n",
              "      <th>...</th>\n",
              "      <td>...</td>\n",
              "      <td>...</td>\n",
              "      <td>...</td>\n",
              "      <td>...</td>\n",
              "      <td>...</td>\n",
              "      <td>...</td>\n",
              "      <td>...</td>\n",
              "      <td>...</td>\n",
              "      <td>...</td>\n",
              "      <td>...</td>\n",
              "      <td>...</td>\n",
              "    </tr>\n",
              "    <tr>\n",
              "      <th>2019-12-31 19:00:00+00:00</th>\n",
              "      <td>51197.0</td>\n",
              "      <td>2019-12-31</td>\n",
              "      <td>19</td>\n",
              "      <td>2019</td>\n",
              "      <td>12</td>\n",
              "      <td>31</td>\n",
              "      <td>Tuesday</td>\n",
              "      <td>evening</td>\n",
              "      <td>0</td>\n",
              "      <td>No</td>\n",
              "      <td>autumn</td>\n",
              "    </tr>\n",
              "    <tr>\n",
              "      <th>2019-12-31 20:00:00+00:00</th>\n",
              "      <td>48257.0</td>\n",
              "      <td>2019-12-31</td>\n",
              "      <td>20</td>\n",
              "      <td>2019</td>\n",
              "      <td>12</td>\n",
              "      <td>31</td>\n",
              "      <td>Tuesday</td>\n",
              "      <td>evening</td>\n",
              "      <td>0</td>\n",
              "      <td>No</td>\n",
              "      <td>autumn</td>\n",
              "    </tr>\n",
              "    <tr>\n",
              "      <th>2019-12-31 21:00:00+00:00</th>\n",
              "      <td>46565.0</td>\n",
              "      <td>2019-12-31</td>\n",
              "      <td>21</td>\n",
              "      <td>2019</td>\n",
              "      <td>12</td>\n",
              "      <td>31</td>\n",
              "      <td>Tuesday</td>\n",
              "      <td>evening</td>\n",
              "      <td>0</td>\n",
              "      <td>No</td>\n",
              "      <td>autumn</td>\n",
              "    </tr>\n",
              "    <tr>\n",
              "      <th>2019-12-31 22:00:00+00:00</th>\n",
              "      <td>45671.0</td>\n",
              "      <td>2019-12-31</td>\n",
              "      <td>22</td>\n",
              "      <td>2019</td>\n",
              "      <td>12</td>\n",
              "      <td>31</td>\n",
              "      <td>Tuesday</td>\n",
              "      <td>night</td>\n",
              "      <td>0</td>\n",
              "      <td>No</td>\n",
              "      <td>autumn</td>\n",
              "    </tr>\n",
              "    <tr>\n",
              "      <th>2019-12-31 23:00:00+00:00</th>\n",
              "      <td>44859.0</td>\n",
              "      <td>2019-12-31</td>\n",
              "      <td>23</td>\n",
              "      <td>2019</td>\n",
              "      <td>12</td>\n",
              "      <td>31</td>\n",
              "      <td>Tuesday</td>\n",
              "      <td>night</td>\n",
              "      <td>0</td>\n",
              "      <td>No</td>\n",
              "      <td>autumn</td>\n",
              "    </tr>\n",
              "  </tbody>\n",
              "</table>\n",
              "<p>43824 rows × 11 columns</p>\n",
              "</div>"
            ],
            "text/plain": [
              "                              load      Dates  ...  non_working  season\n",
              "Date                                           ...                     \n",
              "2015-01-01 00:00:00+00:00  37824.0 2015-01-01  ...          Yes  winter\n",
              "2015-01-01 01:00:00+00:00  35827.0 2015-01-01  ...           No  winter\n",
              "2015-01-01 02:00:00+00:00  33846.0 2015-01-01  ...           No  winter\n",
              "2015-01-01 03:00:00+00:00  32624.0 2015-01-01  ...           No  winter\n",
              "2015-01-01 04:00:00+00:00  32504.0 2015-01-01  ...           No  winter\n",
              "...                            ...        ...  ...          ...     ...\n",
              "2019-12-31 19:00:00+00:00  51197.0 2019-12-31  ...           No  autumn\n",
              "2019-12-31 20:00:00+00:00  48257.0 2019-12-31  ...           No  autumn\n",
              "2019-12-31 21:00:00+00:00  46565.0 2019-12-31  ...           No  autumn\n",
              "2019-12-31 22:00:00+00:00  45671.0 2019-12-31  ...           No  autumn\n",
              "2019-12-31 23:00:00+00:00  44859.0 2019-12-31  ...           No  autumn\n",
              "\n",
              "[43824 rows x 11 columns]"
            ]
          },
          "metadata": {
            "tags": []
          },
          "execution_count": 28
        }
      ]
    },
    {
      "cell_type": "code",
      "metadata": {
        "id": "W91ximluBJdr"
      },
      "source": [
        ""
      ],
      "execution_count": null,
      "outputs": []
    },
    {
      "cell_type": "code",
      "metadata": {
        "id": "LtrMg--RBJgF"
      },
      "source": [
        ""
      ],
      "execution_count": null,
      "outputs": []
    },
    {
      "cell_type": "code",
      "metadata": {
        "id": "pQ4ND9AhBJin"
      },
      "source": [
        ""
      ],
      "execution_count": null,
      "outputs": []
    },
    {
      "cell_type": "code",
      "metadata": {
        "id": "6VTNJeskBJlQ"
      },
      "source": [
        ""
      ],
      "execution_count": null,
      "outputs": []
    },
    {
      "cell_type": "code",
      "metadata": {
        "id": "xhIiUobUBJn4"
      },
      "source": [
        ""
      ],
      "execution_count": null,
      "outputs": []
    },
    {
      "cell_type": "code",
      "metadata": {
        "id": "KCwHJIewBJqh"
      },
      "source": [
        ""
      ],
      "execution_count": null,
      "outputs": []
    },
    {
      "cell_type": "code",
      "metadata": {
        "id": "gfIhiz_0BJtW"
      },
      "source": [
        ""
      ],
      "execution_count": null,
      "outputs": []
    },
    {
      "cell_type": "code",
      "metadata": {
        "id": "-6nLiKDOBJv2"
      },
      "source": [
        ""
      ],
      "execution_count": null,
      "outputs": []
    },
    {
      "cell_type": "markdown",
      "metadata": {
        "id": "pr0jjRojBK45"
      },
      "source": [
        "# **Weather**"
      ]
    },
    {
      "cell_type": "code",
      "metadata": {
        "colab": {
          "base_uri": "https://localhost:8080/"
        },
        "id": "baMze2_Rt204",
        "outputId": "aeaf08a4-a48c-4872-c36c-d8fd538fefef"
      },
      "source": [
        "weather=pd.read_csv('/content/gdrive/My Drive/KNMI.txt',usecols=['YYYYMMDD','# STN','   TG', '   SP','   NG'],error_bad_lines=False,header=0,parse_dates=['YYYYMMDD'])"
      ],
      "execution_count": null,
      "outputs": [
        {
          "output_type": "stream",
          "text": [
            "/usr/local/lib/python3.6/dist-packages/IPython/core/interactiveshell.py:2718: DtypeWarning:\n",
            "\n",
            "Columns (0,11,19,34) have mixed types.Specify dtype option on import or set low_memory=False.\n",
            "\n"
          ],
          "name": "stderr"
        }
      ]
    },
    {
      "cell_type": "code",
      "metadata": {
        "id": "DxubX8OFUcTV"
      },
      "source": [
        "del weather['# STN']\r\n",
        "weather.columns=['Date','temp','sunshine','cloudy']"
      ],
      "execution_count": null,
      "outputs": []
    },
    {
      "cell_type": "code",
      "metadata": {
        "colab": {
          "base_uri": "https://localhost:8080/"
        },
        "id": "UDFcZssRk1Xs",
        "outputId": "fe2b7c90-f790-4356-f589-50bcfac674c1"
      },
      "source": [
        "weather.max()"
      ],
      "execution_count": null,
      "outputs": [
        {
          "output_type": "execute_result",
          "data": {
            "text/plain": [
              "Date   2020-08-17\n",
              "dtype: datetime64[ns]"
            ]
          },
          "metadata": {
            "tags": []
          },
          "execution_count": 389
        }
      ]
    },
    {
      "cell_type": "code",
      "metadata": {
        "id": "gPxNnL_SbPoa"
      },
      "source": [
        "weather.drop_duplicates(subset='Date',inplace=True)"
      ],
      "execution_count": null,
      "outputs": []
    },
    {
      "cell_type": "code",
      "metadata": {
        "id": "g9Em2YpwbZvT"
      },
      "source": [
        "weather.set_index('Date',inplace=True)"
      ],
      "execution_count": null,
      "outputs": []
    },
    {
      "cell_type": "code",
      "metadata": {
        "id": "LLVzHvw9aa9L"
      },
      "source": [
        "categorical = [var for var in weather.columns if weather[var].dtype=='O']\r\n",
        "for t in categorical:\r\n",
        "    weather[t] = pd.to_numeric(weather[t],errors='coerce')"
      ],
      "execution_count": null,
      "outputs": []
    },
    {
      "cell_type": "code",
      "metadata": {
        "id": "r4scoICTanbT"
      },
      "source": [
        "weather['temp']=weather['temp']/10"
      ],
      "execution_count": null,
      "outputs": []
    },
    {
      "cell_type": "code",
      "metadata": {
        "id": "SlT9YVjhc4On"
      },
      "source": [
        "weather.dropna(inplace=True)"
      ],
      "execution_count": null,
      "outputs": []
    },
    {
      "cell_type": "code",
      "metadata": {
        "id": "vbMaDUaQbrMJ"
      },
      "source": [
        "weather=weather[(weather.index>='2015-01-01')&(weather.index<'2020-01-01')]"
      ],
      "execution_count": null,
      "outputs": []
    },
    {
      "cell_type": "code",
      "metadata": {
        "colab": {
          "base_uri": "https://localhost:8080/",
          "height": 437
        },
        "id": "LMVj55NDjlnd",
        "outputId": "c2fb538b-b8cb-4409-f99e-400fa080eb73"
      },
      "source": [
        "weather"
      ],
      "execution_count": null,
      "outputs": [
        {
          "output_type": "execute_result",
          "data": {
            "text/html": [
              "<div>\n",
              "<style scoped>\n",
              "    .dataframe tbody tr th:only-of-type {\n",
              "        vertical-align: middle;\n",
              "    }\n",
              "\n",
              "    .dataframe tbody tr th {\n",
              "        vertical-align: top;\n",
              "    }\n",
              "\n",
              "    .dataframe thead th {\n",
              "        text-align: right;\n",
              "    }\n",
              "</style>\n",
              "<table border=\"1\" class=\"dataframe\">\n",
              "  <thead>\n",
              "    <tr style=\"text-align: right;\">\n",
              "      <th></th>\n",
              "      <th>temp</th>\n",
              "      <th>sunshine</th>\n",
              "      <th>cloudy</th>\n",
              "    </tr>\n",
              "    <tr>\n",
              "      <th>Date</th>\n",
              "      <th></th>\n",
              "      <th></th>\n",
              "      <th></th>\n",
              "    </tr>\n",
              "  </thead>\n",
              "  <tbody>\n",
              "    <tr>\n",
              "      <th>2015-01-01</th>\n",
              "      <td>4.0</td>\n",
              "      <td>15.0</td>\n",
              "      <td>5.0</td>\n",
              "    </tr>\n",
              "    <tr>\n",
              "      <th>2015-01-02</th>\n",
              "      <td>7.8</td>\n",
              "      <td>55.0</td>\n",
              "      <td>5.0</td>\n",
              "    </tr>\n",
              "    <tr>\n",
              "      <th>2015-01-03</th>\n",
              "      <td>5.3</td>\n",
              "      <td>0.0</td>\n",
              "      <td>7.0</td>\n",
              "    </tr>\n",
              "    <tr>\n",
              "      <th>2015-01-04</th>\n",
              "      <td>4.4</td>\n",
              "      <td>57.0</td>\n",
              "      <td>2.0</td>\n",
              "    </tr>\n",
              "    <tr>\n",
              "      <th>2015-01-05</th>\n",
              "      <td>3.4</td>\n",
              "      <td>10.0</td>\n",
              "      <td>7.0</td>\n",
              "    </tr>\n",
              "    <tr>\n",
              "      <th>...</th>\n",
              "      <td>...</td>\n",
              "      <td>...</td>\n",
              "      <td>...</td>\n",
              "    </tr>\n",
              "    <tr>\n",
              "      <th>2019-12-27</th>\n",
              "      <td>5.5</td>\n",
              "      <td>0.0</td>\n",
              "      <td>8.0</td>\n",
              "    </tr>\n",
              "    <tr>\n",
              "      <th>2019-12-28</th>\n",
              "      <td>1.9</td>\n",
              "      <td>69.0</td>\n",
              "      <td>8.0</td>\n",
              "    </tr>\n",
              "    <tr>\n",
              "      <th>2019-12-29</th>\n",
              "      <td>1.1</td>\n",
              "      <td>39.0</td>\n",
              "      <td>8.0</td>\n",
              "    </tr>\n",
              "    <tr>\n",
              "      <th>2019-12-30</th>\n",
              "      <td>5.0</td>\n",
              "      <td>84.0</td>\n",
              "      <td>2.0</td>\n",
              "    </tr>\n",
              "    <tr>\n",
              "      <th>2019-12-31</th>\n",
              "      <td>2.9</td>\n",
              "      <td>6.0</td>\n",
              "      <td>7.0</td>\n",
              "    </tr>\n",
              "  </tbody>\n",
              "</table>\n",
              "<p>33649 rows × 3 columns</p>\n",
              "</div>"
            ],
            "text/plain": [
              "            temp  sunshine  cloudy\n",
              "Date                              \n",
              "2015-01-01   4.0      15.0     5.0\n",
              "2015-01-02   7.8      55.0     5.0\n",
              "2015-01-03   5.3       0.0     7.0\n",
              "2015-01-04   4.4      57.0     2.0\n",
              "2015-01-05   3.4      10.0     7.0\n",
              "...          ...       ...     ...\n",
              "2019-12-27   5.5       0.0     8.0\n",
              "2019-12-28   1.9      69.0     8.0\n",
              "2019-12-29   1.1      39.0     8.0\n",
              "2019-12-30   5.0      84.0     2.0\n",
              "2019-12-31   2.9       6.0     7.0\n",
              "\n",
              "[33649 rows x 3 columns]"
            ]
          },
          "metadata": {
            "tags": []
          },
          "execution_count": 395
        }
      ]
    },
    {
      "cell_type": "code",
      "metadata": {
        "id": "ahJYD3r1cUT0"
      },
      "source": [
        "for t in weather.columns:\r\n",
        "    col_median=weather[t].median()\r\n",
        "    weather[t]=weather[t].fillna(col_median)"
      ],
      "execution_count": null,
      "outputs": []
    },
    {
      "cell_type": "code",
      "metadata": {
        "colab": {
          "base_uri": "https://localhost:8080/"
        },
        "id": "r6Rd9tQHcUZX",
        "outputId": "0578feef-c6a1-426f-92db-118aa082e118"
      },
      "source": [
        "weather['temp'].skew(),weather['sunshine'].skew(),weather['cloudy'].skew()"
      ],
      "execution_count": null,
      "outputs": [
        {
          "output_type": "execute_result",
          "data": {
            "text/plain": [
              "(-0.026503386381451804, -0.21383422055834134, -0.8982553897277201)"
            ]
          },
          "metadata": {
            "tags": []
          },
          "execution_count": 280
        }
      ]
    },
    {
      "cell_type": "code",
      "metadata": {
        "colab": {
          "base_uri": "https://localhost:8080/"
        },
        "id": "0dap00zmeMjF",
        "outputId": "4293a7c5-8fe8-4c5b-f608-cf96711fe8f3"
      },
      "source": [
        "weather['temp'].kurt(),weather['sunshine'].kurt(),weather['cloudy'].kurt()"
      ],
      "execution_count": null,
      "outputs": [
        {
          "output_type": "execute_result",
          "data": {
            "text/plain": [
              "(-0.7743254931948425, -1.1655931524607468, 0.13554111028903337)"
            ]
          },
          "metadata": {
            "tags": []
          },
          "execution_count": 281
        }
      ]
    },
    {
      "cell_type": "code",
      "metadata": {
        "colab": {
          "background_save": true,
          "base_uri": "https://localhost:8080/"
        },
        "id": "vqe0KEkLeTrk",
        "outputId": "3622eb16-26d0-4297-ff2c-857b87289c04"
      },
      "source": [
        "# to kill outlirs with respect to the distribution nature\r\n",
        "class outlierkiller:\r\n",
        "    def __init__(self,df,x):\r\n",
        "        self.df=df\r\n",
        "        self.x=x\r\n",
        "    def nongausskiller(self):\r\n",
        "        for t in self.x:\r\n",
        "            IQR = self.df[t].quantile(0.75) - self.df[t].quantile(0.25)\r\n",
        "            Lower_fence = self.df[t].quantile(0.25) - (IQR * 3)\r\n",
        "            Upper_fence = self.df[t].quantile(0.75) + (IQR * 3)\r\n",
        "            self.df.loc[self.df[t]>Upper_fence, t] = Upper_fence\r\n",
        "            self.df.loc[self.df[t]<Lower_fence, t] = Lower_fence\r\n",
        "            return self\r\n",
        "    def gausskiller(self):\r\n",
        "        for t in self.x:\r\n",
        "            Upper_boundary = self.df[t].mean() + 3* self.df[t].std()\r\n",
        "            Lower_boundary = self.df[t].mean() - 3* self.df[t].std()\r\n",
        "            self.df.loc[self.df[t]>Upper_boundary, t] = Upper_boundary\r\n",
        "            self.df.loc[self.df[t]<Lower_boundary, t] = Lower_boundary\r\n",
        "            return self\r\n",
        "outlierkiller(weather,['cloudy','temp']).nongausskiller()\r\n",
        "outlierkiller(weather,['sunshine']).gausskiller()\r\n"
      ],
      "execution_count": null,
      "outputs": [
        {
          "output_type": "execute_result",
          "data": {
            "text/plain": [
              "<__main__.outlierkiller at 0x7fce47f2ad30>"
            ]
          },
          "metadata": {
            "tags": []
          },
          "execution_count": 0
        }
      ]
    },
    {
      "cell_type": "code",
      "metadata": {
        "colab": {
          "base_uri": "https://localhost:8080/",
          "height": 171
        },
        "id": "AQQVGZXRgWlq",
        "outputId": "14d7fb7d-b340-48cf-b65d-51ed99f4123a"
      },
      "source": [
        "red_square = dict(markerfacecolor='r', markeredgecolor='r', marker='.')\r\n",
        "weather['cloudy'].plot(kind='box', xlim=(-1, 15), vert=False, flierprops=red_square, figsize=(16,2))"
      ],
      "execution_count": null,
      "outputs": [
        {
          "output_type": "execute_result",
          "data": {
            "text/plain": [
              "<matplotlib.axes._subplots.AxesSubplot at 0x7fce4fa8eb00>"
            ]
          },
          "metadata": {
            "tags": []
          },
          "execution_count": 283
        },
        {
          "output_type": "display_data",
          "data": {
            "image/png": "[encoded data removed]",
            "text/plain": [
              "<Figure size 1152x144 with 1 Axes>"
            ]
          },
          "metadata": {
            "tags": []
          }
        }
      ]
    },
    {
      "cell_type": "code",
      "metadata": {
        "colab": {
          "base_uri": "https://localhost:8080/",
          "height": 171
        },
        "id": "kZZOItm-gduT",
        "outputId": "d2a705cf-0688-4962-dbdb-2c1532d91ff5"
      },
      "source": [
        "red_square = dict(markerfacecolor='r', markeredgecolor='r', marker='.')\r\n",
        "weather['temp'].plot(kind='box', xlim=(-10, 35), vert=False, flierprops=red_square, figsize=(16,2))"
      ],
      "execution_count": null,
      "outputs": [
        {
          "output_type": "execute_result",
          "data": {
            "text/plain": [
              "<matplotlib.axes._subplots.AxesSubplot at 0x7fce55be2d68>"
            ]
          },
          "metadata": {
            "tags": []
          },
          "execution_count": 119
        },
        {
          "output_type": "display_data",
          "data": {
            "image/png": "[encoded data removed]",
            "text/plain": [
              "<Figure size 1152x144 with 1 Axes>"
            ]
          },
          "metadata": {
            "tags": []
          }
        }
      ]
    },
    {
      "cell_type": "code",
      "metadata": {
        "colab": {
          "background_save": true,
          "base_uri": "https://localhost:8080/",
          "height": 171
        },
        "id": "vIFcuKwJgd3L",
        "outputId": "ab5a47fc-d644-43fc-d730-c0411589050b"
      },
      "source": [
        "red_square = dict(markerfacecolor='r', markeredgecolor='r', marker='.')\r\n",
        "weather['sunshine'].plot(kind='box', xlim=(-10, 200), vert=False, flierprops=red_square, figsize=(16,2))"
      ],
      "execution_count": null,
      "outputs": [
        {
          "output_type": "execute_result",
          "data": {
            "text/plain": [
              "<matplotlib.axes._subplots.AxesSubplot at 0x7fce488ec198>"
            ]
          },
          "metadata": {
            "tags": []
          },
          "execution_count": 0
        },
        {
          "output_type": "display_data",
          "data": {
            "image/png": "[encoded data removed]",
            "text/plain": [
              "<Figure size 1152x144 with 1 Axes>"
            ]
          },
          "metadata": {
            "tags": []
          }
        }
      ]
    },
    {
      "cell_type": "code",
      "metadata": {
        "colab": {
          "base_uri": "https://localhost:8080/"
        },
        "id": "Vl5tu_ljc_I6",
        "outputId": "3e6cd109-d227-4f66-e9ca-11176ebfb55e"
      },
      "source": [
        "weather,data"
      ],
      "execution_count": null,
      "outputs": [
        {
          "output_type": "execute_result",
          "data": {
            "text/plain": [
              "(            temp  sunshine  cloudy\n",
              " Date                              \n",
              " 2015-01-01   4.0      15.0     5.0\n",
              " 2015-01-02   7.8      55.0     5.0\n",
              " 2015-01-04   4.4      57.0     2.0\n",
              " 2015-01-06   3.4      24.0     8.0\n",
              " 2015-01-07   4.6      65.0     5.0\n",
              " ...          ...       ...     ...\n",
              " 2019-06-25  28.5      64.0     6.0\n",
              " 2019-07-24  29.4      88.0     6.0\n",
              " 2019-07-25  30.3      82.0     6.0\n",
              " 2019-07-26  29.6      58.0     6.0\n",
              " 2019-08-28  23.6      54.0     6.0\n",
              " \n",
              " [19329 rows x 3 columns],\n",
              "                  load      Dates  year  ...  holiday  Working Day  season\n",
              " Date                                    ...                              \n",
              " 2015-01-01   987475.0 2015-01-01  2015  ...        0            1  winter\n",
              " 2015-01-02  1145403.0 2015-01-02  2015  ...        0            1  winter\n",
              " 2015-01-03  1240354.0 2015-01-03  2015  ...        0            0  winter\n",
              " 2015-01-04  1202815.0 2015-01-04  2015  ...        0            0  winter\n",
              " 2015-01-05  1508716.0 2015-01-05  2015  ...        0            1  winter\n",
              " ...               ...        ...   ...  ...      ...          ...     ...\n",
              " 2020-07-27  1119413.0 2020-07-27  2020  ...        0            1  summer\n",
              " 2020-07-28  1087083.0 2020-07-28  2020  ...        0            1  summer\n",
              " 2020-07-29  1074813.0 2020-07-29  2020  ...        0            1  summer\n",
              " 2020-07-30  1062650.0 2020-07-30  2020  ...        0            1  summer\n",
              " 2020-07-31  1076937.0 2020-07-31  2020  ...        0            1  summer\n",
              " \n",
              " [2039 rows x 10 columns])"
            ]
          },
          "metadata": {
            "tags": []
          },
          "execution_count": 315
        }
      ]
    },
    {
      "cell_type": "code",
      "metadata": {
        "id": "cOFEYu6rjpbd"
      },
      "source": [
        "df=pd.merge(data, weather, left_index=True, right_index=True)"
      ],
      "execution_count": null,
      "outputs": []
    },
    {
      "cell_type": "code",
      "metadata": {
        "colab": {
          "base_uri": "https://localhost:8080/"
        },
        "id": "QZawHqynJtyc",
        "outputId": "f74f719a-7997-4529-9fc8-8f78147b5a72"
      },
      "source": [
        "df[df.isna().any(axis = 1)].sum()"
      ],
      "execution_count": null,
      "outputs": [
        {
          "output_type": "execute_result",
          "data": {
            "text/plain": [
              "load           0.0\n",
              "Dates          0.0\n",
              "year           0.0\n",
              "month          0.0\n",
              "day            0.0\n",
              "hour           0.0\n",
              "weekday        0.0\n",
              "holiday        0.0\n",
              "Working Day    0.0\n",
              "season         0.0\n",
              "temp           0.0\n",
              "sunshine       0.0\n",
              "cloudy         0.0\n",
              "dtype: float64"
            ]
          },
          "metadata": {
            "tags": []
          },
          "execution_count": 287
        }
      ]
    },
    {
      "cell_type": "code",
      "metadata": {
        "colab": {
          "base_uri": "https://localhost:8080/"
        },
        "id": "52qY4_uuMiQO",
        "outputId": "169c7b9f-2efa-4bec-959a-1e2bc63c6bea"
      },
      "source": [
        "drive.mount('drive')"
      ],
      "execution_count": null,
      "outputs": [
        {
          "output_type": "stream",
          "text": [
            "Mounted at drive\n"
          ],
          "name": "stdout"
        }
      ]
    },
    {
      "cell_type": "code",
      "metadata": {
        "id": "BYBI5NcKRZLb"
      },
      "source": [
        "df.to_csv('Wload.csv')\r\n",
        "!cp Wload.csv \"drive/My Drive/\"\r\n",
        "usecols=['YYYYMMDD','# STN','   TG', '   SP','   NG'],\r\n",
        ",header=0,parse_dates=['YYYYMMDD']"
      ],
      "execution_count": null,
      "outputs": []
    },
    {
      "cell_type": "code",
      "metadata": {
        "colab": {
          "base_uri": "https://localhost:8080/"
        },
        "id": "LF7hD7UGMsZO",
        "outputId": "fb31b608-6c2d-47a5-bd52-c9a638686c7e"
      },
      "source": [
        "os.listdir(os.getcwd())"
      ],
      "execution_count": null,
      "outputs": [
        {
          "output_type": "execute_result",
          "data": {
            "text/plain": [
              "['.config',\n",
              " 'Wload.csv',\n",
              " 'load_n_weather.csv',\n",
              " 'gdrive',\n",
              " 'drive',\n",
              " 'loadnweather.csv',\n",
              " 'sample_data']"
            ]
          },
          "metadata": {
            "tags": []
          },
          "execution_count": 299
        }
      ]
    },
    {
      "cell_type": "markdown",
      "metadata": {
        "id": "hLpfkKs-MbK4"
      },
      "source": [
        "# ***WEATHER hourly***"
      ]
    },
    {
      "cell_type": "code",
      "metadata": {
        "id": "2JreSRZvNf9X"
      },
      "source": [
        "wdf=pd.read_csv('/content/gdrive/My Drive/NL_temp.csv',usecols=['utc_timestamp','NL_temperature'],error_bad_lines=False,header=0,parse_dates=['utc_timestamp'],index_col=['utc_timestamp'])"
      ],
      "execution_count": null,
      "outputs": []
    },
    {
      "cell_type": "code",
      "metadata": {
        "id": "MDvi3L7JZz92"
      },
      "source": [
        "wdf.index.names=['Date']"
      ],
      "execution_count": null,
      "outputs": []
    },
    {
      "cell_type": "code",
      "metadata": {
        "id": "zG1oYMn7cznQ"
      },
      "source": [
        "wdf=wdf[(wdf.index>='2015-01-01')&(wdf.index<'2020-01-01')]"
      ],
      "execution_count": null,
      "outputs": []
    },
    {
      "cell_type": "code",
      "metadata": {
        "colab": {
          "base_uri": "https://localhost:8080/"
        },
        "id": "8UfYFshLdUPo",
        "outputId": "8ba9e31f-ab48-48cb-8440-313d04ad7025"
      },
      "source": [
        "wdf.isnull().sum()"
      ],
      "execution_count": null,
      "outputs": [
        {
          "output_type": "execute_result",
          "data": {
            "text/plain": [
              "NL_temperature    0\n",
              "dtype: int64"
            ]
          },
          "metadata": {
            "tags": []
          },
          "execution_count": 32
        }
      ]
    },
    {
      "cell_type": "code",
      "metadata": {
        "colab": {
          "base_uri": "https://localhost:8080/"
        },
        "id": "iVYE0AQgge9R",
        "outputId": "80942829-434a-4606-d7bf-50a45832c799"
      },
      "source": [
        "wdf['NL_temperature'].kurt(),wdf['NL_temperature'].skew()"
      ],
      "execution_count": null,
      "outputs": [
        {
          "output_type": "execute_result",
          "data": {
            "text/plain": [
              "(-0.6018359846360974, 0.166327603391475)"
            ]
          },
          "metadata": {
            "tags": []
          },
          "execution_count": 33
        }
      ]
    },
    {
      "cell_type": "code",
      "metadata": {
        "colab": {
          "base_uri": "https://localhost:8080/",
          "height": 171
        },
        "id": "vTO6IBF0dZrZ",
        "outputId": "d374a8bd-aa1b-4c4c-aca3-70383548afd8"
      },
      "source": [
        "red_square = dict(markerfacecolor='r', markeredgecolor='r', marker='.')\r\n",
        "wdf['NL_temperature'].plot(kind='box', xlim=(-10, 49), vert=False, flierprops=red_square, figsize=(16,2))"
      ],
      "execution_count": null,
      "outputs": [
        {
          "output_type": "execute_result",
          "data": {
            "text/plain": [
              "<matplotlib.axes._subplots.AxesSubplot at 0x7f495f5ab320>"
            ]
          },
          "metadata": {
            "tags": []
          },
          "execution_count": 34
        },
        {
          "output_type": "display_data",
          "data": {
            "image/png": "[encoded data removed]",
            "text/plain": [
              "<Figure size 1152x144 with 1 Axes>"
            ]
          },
          "metadata": {
            "tags": [],
            "needs_background": "light"
          }
        }
      ]
    },
    {
      "cell_type": "code",
      "metadata": {
        "colab": {
          "base_uri": "https://localhost:8080/"
        },
        "id": "Mbb9ULFFfueR",
        "outputId": "16a2d29b-c9b6-4bba-c349-8400ef8bc16d"
      },
      "source": [
        "# to kill outlirs with respect to the distribution nature\r\n",
        "class outlierkiller:\r\n",
        "    def __init__(self,df,x):\r\n",
        "        self.df=df\r\n",
        "        self.x=x\r\n",
        "    def nongausskiller(self):\r\n",
        "        for t in self.x:\r\n",
        "            IQR = self.df[t].quantile(0.75) - self.df[t].quantile(0.25)\r\n",
        "            Lower_fence = self.df[t].quantile(0.25) - (IQR * 3)\r\n",
        "            Upper_fence = self.df[t].quantile(0.75) + (IQR * 3)\r\n",
        "            self.df.loc[self.df[t]>Upper_fence, t] = Upper_fence\r\n",
        "            self.df.loc[self.df[t]<Lower_fence, t] = Lower_fence\r\n",
        "            return self\r\n",
        "    def gausskiller(self):\r\n",
        "        for t in self.x:\r\n",
        "            Upper_boundary = self.df[t].mean() + 3* self.df[t].std()\r\n",
        "            Lower_boundary = self.df[t].mean() - 3* self.df[t].std()\r\n",
        "            self.df.loc[self.df[t]>Upper_boundary, t] = Upper_boundary\r\n",
        "            self.df.loc[self.df[t]<Lower_boundary, t] = Lower_boundary\r\n",
        "            return self\r\n",
        "outlierkiller(wdf,['NL_temperature']).gausskiller()\r\n",
        "\r\n"
      ],
      "execution_count": null,
      "outputs": [
        {
          "output_type": "execute_result",
          "data": {
            "text/plain": [
              "<__main__.outlierkiller at 0x7f49602dbac8>"
            ]
          },
          "metadata": {
            "tags": []
          },
          "execution_count": 35
        }
      ]
    },
    {
      "cell_type": "code",
      "metadata": {
        "colab": {
          "base_uri": "https://localhost:8080/",
          "height": 171
        },
        "id": "NRA2xUO6gKXt",
        "outputId": "4027f6d3-f39e-4dac-fad4-ad52b95feceb"
      },
      "source": [
        "red_square = dict(markerfacecolor='r', markeredgecolor='r', marker='.')\r\n",
        "wdf['NL_temperature'].plot(kind='box', xlim=(-14, 49), vert=False, flierprops=red_square, figsize=(16,2))"
      ],
      "execution_count": null,
      "outputs": [
        {
          "output_type": "execute_result",
          "data": {
            "text/plain": [
              "<matplotlib.axes._subplots.AxesSubplot at 0x7f49602f3860>"
            ]
          },
          "metadata": {
            "tags": []
          },
          "execution_count": 36
        },
        {
          "output_type": "display_data",
          "data": {
            "image/png": "[encoded data removed]",
            "text/plain": [
              "<Figure size 1152x144 with 1 Axes>"
            ]
          },
          "metadata": {
            "tags": [],
            "needs_background": "light"
          }
        }
      ]
    },
    {
      "cell_type": "code",
      "metadata": {
        "id": "ITZxU09Pg-m6"
      },
      "source": [
        "wdf.columns=['temp']"
      ],
      "execution_count": null,
      "outputs": []
    },
    {
      "cell_type": "code",
      "metadata": {
        "id": "uTHhKbHWdzV_"
      },
      "source": [
        "frame=pd.merge(data, wdf, left_index=True, right_index=True)"
      ],
      "execution_count": null,
      "outputs": []
    },
    {
      "cell_type": "code",
      "metadata": {
        "colab": {
          "base_uri": "https://localhost:8080/"
        },
        "id": "VhPQmziMhUXM",
        "outputId": "de3ec3e4-6614-4173-e35c-76b7cb826fbe"
      },
      "source": [
        "drive.mount('drive')"
      ],
      "execution_count": null,
      "outputs": [
        {
          "output_type": "stream",
          "text": [
            "Mounted at drive\n"
          ],
          "name": "stdout"
        }
      ]
    },
    {
      "cell_type": "code",
      "metadata": {
        "id": "Ck4KQthafda0"
      },
      "source": [
        "frame.to_csv('frame.csv')\r\n",
        "!cp frame.csv \"drive/My Drive/\"\r\n"
      ],
      "execution_count": null,
      "outputs": []
    },
    {
      "cell_type": "code",
      "metadata": {
        "colab": {
          "base_uri": "https://localhost:8080/",
          "height": 437
        },
        "id": "rVrv_7v5mluY",
        "outputId": "fda8c990-d761-4cda-f6c5-950cfb2a6a42"
      },
      "source": [
        "frame"
      ],
      "execution_count": null,
      "outputs": [
        {
          "output_type": "execute_result",
          "data": {
            "text/html": [
              "<div>\n",
              "<style scoped>\n",
              "    .dataframe tbody tr th:only-of-type {\n",
              "        vertical-align: middle;\n",
              "    }\n",
              "\n",
              "    .dataframe tbody tr th {\n",
              "        vertical-align: top;\n",
              "    }\n",
              "\n",
              "    .dataframe thead th {\n",
              "        text-align: right;\n",
              "    }\n",
              "</style>\n",
              "<table border=\"1\" class=\"dataframe\">\n",
              "  <thead>\n",
              "    <tr style=\"text-align: right;\">\n",
              "      <th></th>\n",
              "      <th>load</th>\n",
              "      <th>Dates</th>\n",
              "      <th>hour</th>\n",
              "      <th>year</th>\n",
              "      <th>month</th>\n",
              "      <th>day</th>\n",
              "      <th>weekday</th>\n",
              "      <th>daytime</th>\n",
              "      <th>holiday</th>\n",
              "      <th>non_working</th>\n",
              "      <th>season</th>\n",
              "      <th>temp</th>\n",
              "    </tr>\n",
              "    <tr>\n",
              "      <th>Date</th>\n",
              "      <th></th>\n",
              "      <th></th>\n",
              "      <th></th>\n",
              "      <th></th>\n",
              "      <th></th>\n",
              "      <th></th>\n",
              "      <th></th>\n",
              "      <th></th>\n",
              "      <th></th>\n",
              "      <th></th>\n",
              "      <th></th>\n",
              "      <th></th>\n",
              "    </tr>\n",
              "  </thead>\n",
              "  <tbody>\n",
              "    <tr>\n",
              "      <th>2015-01-01 00:00:00+00:00</th>\n",
              "      <td>37824.0</td>\n",
              "      <td>2015-01-01</td>\n",
              "      <td>0</td>\n",
              "      <td>2015</td>\n",
              "      <td>1</td>\n",
              "      <td>1</td>\n",
              "      <td>Thursday</td>\n",
              "      <td>night</td>\n",
              "      <td>1</td>\n",
              "      <td>Yes</td>\n",
              "      <td>winter</td>\n",
              "      <td>1.869</td>\n",
              "    </tr>\n",
              "    <tr>\n",
              "      <th>2015-01-01 01:00:00+00:00</th>\n",
              "      <td>35827.0</td>\n",
              "      <td>2015-01-01</td>\n",
              "      <td>1</td>\n",
              "      <td>2015</td>\n",
              "      <td>1</td>\n",
              "      <td>1</td>\n",
              "      <td>Thursday</td>\n",
              "      <td>night</td>\n",
              "      <td>0</td>\n",
              "      <td>No</td>\n",
              "      <td>winter</td>\n",
              "      <td>1.625</td>\n",
              "    </tr>\n",
              "    <tr>\n",
              "      <th>2015-01-01 02:00:00+00:00</th>\n",
              "      <td>33846.0</td>\n",
              "      <td>2015-01-01</td>\n",
              "      <td>2</td>\n",
              "      <td>2015</td>\n",
              "      <td>1</td>\n",
              "      <td>1</td>\n",
              "      <td>Thursday</td>\n",
              "      <td>night</td>\n",
              "      <td>0</td>\n",
              "      <td>No</td>\n",
              "      <td>winter</td>\n",
              "      <td>1.448</td>\n",
              "    </tr>\n",
              "    <tr>\n",
              "      <th>2015-01-01 03:00:00+00:00</th>\n",
              "      <td>32624.0</td>\n",
              "      <td>2015-01-01</td>\n",
              "      <td>3</td>\n",
              "      <td>2015</td>\n",
              "      <td>1</td>\n",
              "      <td>1</td>\n",
              "      <td>Thursday</td>\n",
              "      <td>night</td>\n",
              "      <td>0</td>\n",
              "      <td>No</td>\n",
              "      <td>winter</td>\n",
              "      <td>1.250</td>\n",
              "    </tr>\n",
              "    <tr>\n",
              "      <th>2015-01-01 04:00:00+00:00</th>\n",
              "      <td>32504.0</td>\n",
              "      <td>2015-01-01</td>\n",
              "      <td>4</td>\n",
              "      <td>2015</td>\n",
              "      <td>1</td>\n",
              "      <td>1</td>\n",
              "      <td>Thursday</td>\n",
              "      <td>night</td>\n",
              "      <td>0</td>\n",
              "      <td>No</td>\n",
              "      <td>winter</td>\n",
              "      <td>1.102</td>\n",
              "    </tr>\n",
              "    <tr>\n",
              "      <th>...</th>\n",
              "      <td>...</td>\n",
              "      <td>...</td>\n",
              "      <td>...</td>\n",
              "      <td>...</td>\n",
              "      <td>...</td>\n",
              "      <td>...</td>\n",
              "      <td>...</td>\n",
              "      <td>...</td>\n",
              "      <td>...</td>\n",
              "      <td>...</td>\n",
              "      <td>...</td>\n",
              "      <td>...</td>\n",
              "    </tr>\n",
              "    <tr>\n",
              "      <th>2019-12-31 19:00:00+00:00</th>\n",
              "      <td>51197.0</td>\n",
              "      <td>2019-12-31</td>\n",
              "      <td>19</td>\n",
              "      <td>2019</td>\n",
              "      <td>12</td>\n",
              "      <td>31</td>\n",
              "      <td>Tuesday</td>\n",
              "      <td>evening</td>\n",
              "      <td>0</td>\n",
              "      <td>No</td>\n",
              "      <td>autumn</td>\n",
              "      <td>2.909</td>\n",
              "    </tr>\n",
              "    <tr>\n",
              "      <th>2019-12-31 20:00:00+00:00</th>\n",
              "      <td>48257.0</td>\n",
              "      <td>2019-12-31</td>\n",
              "      <td>20</td>\n",
              "      <td>2019</td>\n",
              "      <td>12</td>\n",
              "      <td>31</td>\n",
              "      <td>Tuesday</td>\n",
              "      <td>evening</td>\n",
              "      <td>0</td>\n",
              "      <td>No</td>\n",
              "      <td>autumn</td>\n",
              "      <td>2.635</td>\n",
              "    </tr>\n",
              "    <tr>\n",
              "      <th>2019-12-31 21:00:00+00:00</th>\n",
              "      <td>46565.0</td>\n",
              "      <td>2019-12-31</td>\n",
              "      <td>21</td>\n",
              "      <td>2019</td>\n",
              "      <td>12</td>\n",
              "      <td>31</td>\n",
              "      <td>Tuesday</td>\n",
              "      <td>evening</td>\n",
              "      <td>0</td>\n",
              "      <td>No</td>\n",
              "      <td>autumn</td>\n",
              "      <td>2.210</td>\n",
              "    </tr>\n",
              "    <tr>\n",
              "      <th>2019-12-31 22:00:00+00:00</th>\n",
              "      <td>45671.0</td>\n",
              "      <td>2019-12-31</td>\n",
              "      <td>22</td>\n",
              "      <td>2019</td>\n",
              "      <td>12</td>\n",
              "      <td>31</td>\n",
              "      <td>Tuesday</td>\n",
              "      <td>night</td>\n",
              "      <td>0</td>\n",
              "      <td>No</td>\n",
              "      <td>autumn</td>\n",
              "      <td>1.785</td>\n",
              "    </tr>\n",
              "    <tr>\n",
              "      <th>2019-12-31 23:00:00+00:00</th>\n",
              "      <td>44859.0</td>\n",
              "      <td>2019-12-31</td>\n",
              "      <td>23</td>\n",
              "      <td>2019</td>\n",
              "      <td>12</td>\n",
              "      <td>31</td>\n",
              "      <td>Tuesday</td>\n",
              "      <td>night</td>\n",
              "      <td>0</td>\n",
              "      <td>No</td>\n",
              "      <td>autumn</td>\n",
              "      <td>1.444</td>\n",
              "    </tr>\n",
              "  </tbody>\n",
              "</table>\n",
              "<p>43824 rows × 12 columns</p>\n",
              "</div>"
            ],
            "text/plain": [
              "                              load      Dates  hour  ...  non_working  season   temp\n",
              "Date                                                 ...                            \n",
              "2015-01-01 00:00:00+00:00  37824.0 2015-01-01     0  ...          Yes  winter  1.869\n",
              "2015-01-01 01:00:00+00:00  35827.0 2015-01-01     1  ...           No  winter  1.625\n",
              "2015-01-01 02:00:00+00:00  33846.0 2015-01-01     2  ...           No  winter  1.448\n",
              "2015-01-01 03:00:00+00:00  32624.0 2015-01-01     3  ...           No  winter  1.250\n",
              "2015-01-01 04:00:00+00:00  32504.0 2015-01-01     4  ...           No  winter  1.102\n",
              "...                            ...        ...   ...  ...          ...     ...    ...\n",
              "2019-12-31 19:00:00+00:00  51197.0 2019-12-31    19  ...           No  autumn  2.909\n",
              "2019-12-31 20:00:00+00:00  48257.0 2019-12-31    20  ...           No  autumn  2.635\n",
              "2019-12-31 21:00:00+00:00  46565.0 2019-12-31    21  ...           No  autumn  2.210\n",
              "2019-12-31 22:00:00+00:00  45671.0 2019-12-31    22  ...           No  autumn  1.785\n",
              "2019-12-31 23:00:00+00:00  44859.0 2019-12-31    23  ...           No  autumn  1.444\n",
              "\n",
              "[43824 rows x 12 columns]"
            ]
          },
          "metadata": {
            "tags": []
          },
          "execution_count": 41
        }
      ]
    }
  ]
}